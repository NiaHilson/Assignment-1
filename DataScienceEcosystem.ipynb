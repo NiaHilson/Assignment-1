{
 "cells": [
  {
   "cell_type": "markdown",
   "id": "3fe45955-7847-476a-a6c7-12a3c24de970",
   "metadata": {},
   "source": [
    "# Data Science Tools and Ecosystem"
   ]
  },
  {
   "cell_type": "markdown",
   "id": "42af8f2a-0459-482f-ac92-39a7c2c6595a",
   "metadata": {},
   "source": [
    "Objectives"
   ]
  },
  {
   "cell_type": "markdown",
   "id": "8d377384-e894-4767-9d06-88c339bf4aaa",
   "metadata": {},
   "source": [
    "-Popular Data Languages\n",
    "-Commonly Used Libraries\n",
    "-Data Science Tools\n",
    "-Arithemitic Calculations"
   ]
  },
  {
   "cell_type": "markdown",
   "id": "2968d914-206a-4d02-98a1-7d2c2f676ead",
   "metadata": {},
   "source": [
    "##Author: \n",
    "Nia H."
   ]
  },
  {
   "cell_type": "markdown",
   "id": "c250a9ac-844c-410f-9bc4-e271bc6244cf",
   "metadata": {},
   "source": [
    "In this notebook, Data Science Tools and Ecosystem are summarized."
   ]
  },
  {
   "cell_type": "markdown",
   "id": "2e19f0a8-03a9-4fa2-a499-d47637542643",
   "metadata": {},
   "source": [
    "Some of the popular languages that Data Scientists use are:"
   ]
  },
  {
   "cell_type": "markdown",
   "id": "b5ecae95-8e19-4cad-8c4a-ef69da4e247f",
   "metadata": {},
   "source": [
    "1.R\n",
    "2.Python\n",
    "3.Scala"
   ]
  },
  {
   "cell_type": "markdown",
   "id": "87ed2994-83b0-4839-a479-2ae4077c7ffe",
   "metadata": {},
   "source": [
    "Some of the commonly used libraries used by Data Scientists include:"
   ]
  },
  {
   "cell_type": "markdown",
   "id": "2287a0ff-1a2b-4867-aa27-f76eaf365ec4",
   "metadata": {},
   "source": [
    "2. TensorFlow\n",
    "2. Pandas\n",
    "2. Scikit-Learn"
   ]
  },
  {
   "cell_type": "markdown",
   "id": "92c6e4ec-4f83-4514-a585-d84aafc946ec",
   "metadata": {},
   "source": [
    "|Data Science Tools|\n",
    "|-----------------|\n",
    "|Apache Spark|\n",
    "|Hadoop|\n",
    "|Spyder|"
   ]
  },
  {
   "cell_type": "markdown",
   "id": "7f7b071c-c40e-4848-b76f-0555cef80a97",
   "metadata": {},
   "source": [
    "### Below are a few examples of evaluating arithmetic expressions in Python"
   ]
  },
  {
   "cell_type": "code",
   "execution_count": 15,
   "id": "a06b2f5c-acd5-447e-a344-85110afeacb1",
   "metadata": {},
   "outputs": [
    {
     "data": {
      "text/plain": [
       "17"
      ]
     },
     "execution_count": 15,
     "metadata": {},
     "output_type": "execute_result"
    }
   ],
   "source": [
    "#This a simple arithmetic expression to mutiply then add integers\n",
    "(3*4)+5"
   ]
  },
  {
   "cell_type": "code",
   "execution_count": 16,
   "id": "d51e4566-30b4-4889-ab1c-3ddea03362a3",
   "metadata": {},
   "outputs": [
    {
     "data": {
      "text/plain": [
       "3.3333333333333335"
      ]
     },
     "execution_count": 16,
     "metadata": {},
     "output_type": "execute_result"
    }
   ],
   "source": [
    "#This will convert 200 minutes to hours by diving by 60\n",
    "200/60"
   ]
  },
  {
   "cell_type": "code",
   "execution_count": null,
   "id": "311c96fa-3223-4986-b66b-338817abeaf7",
   "metadata": {},
   "outputs": [],
   "source": []
  },
  {
   "cell_type": "code",
   "execution_count": null,
   "id": "2b2ebcc1-6f44-4c58-8e80-deb196c17057",
   "metadata": {},
   "outputs": [],
   "source": []
  },
  {
   "cell_type": "code",
   "execution_count": null,
   "id": "fe0e8329-f4c5-495d-a127-e25986d0daae",
   "metadata": {},
   "outputs": [],
   "source": []
  }
 ],
 "metadata": {
  "kernelspec": {
   "display_name": "Python 3 (ipykernel)",
   "language": "python",
   "name": "python3"
  },
  "language_info": {
   "codemirror_mode": {
    "name": "ipython",
    "version": 3
   },
   "file_extension": ".py",
   "mimetype": "text/x-python",
   "name": "python",
   "nbconvert_exporter": "python",
   "pygments_lexer": "ipython3",
   "version": "3.12.4"
  }
 },
 "nbformat": 4,
 "nbformat_minor": 5
}
